{
 "cells": [
  {
   "cell_type": "code",
   "execution_count": 3,
   "id": "6563556a",
   "metadata": {},
   "outputs": [
    {
     "name": "stdout",
     "output_type": "stream",
     "text": [
      "[OK] Guardada: yolo_rgb_t/images/test\\imagen_fusionada_test_0.png\n",
      "[OK] Guardada: yolo_rgb_t/images/test\\imagen_fusionada_test_1.png\n",
      "[OK] Guardada: yolo_rgb_t/images/test\\imagen_fusionada_test_2.png\n",
      "[OK] Guardada: yolo_rgb_t/images/test\\imagen_fusionada_test_3.png\n",
      "[OK] Guardada: yolo_rgb_t/images/test\\imagen_fusionada_test_4.png\n",
      "[OK] Guardada: yolo_rgb_t/images/test\\imagen_fusionada_test_5.png\n",
      "[OK] Guardada: yolo_rgb_t/images/test\\imagen_fusionada_test_6.png\n",
      "[OK] Guardada: yolo_rgb_t/images/test\\imagen_fusionada_test_7.png\n",
      "[OK] Guardada: yolo_rgb_t/images/test\\imagen_fusionada_test_8.png\n",
      "[OK] Guardada: yolo_rgb_t/images/test\\imagen_fusionada_test_9.png\n",
      "[OK] Guardada: yolo_rgb_t/images/test\\imagen_fusionada_test_10.png\n",
      "[OK] Guardada: yolo_rgb_t/images/test\\imagen_fusionada_test_11.png\n",
      "[OK] Guardada: yolo_rgb_t/images/test\\imagen_fusionada_test_12.png\n",
      "[OK] Guardada: yolo_rgb_t/images/test\\imagen_fusionada_test_13.png\n",
      "[OK] Guardada: yolo_rgb_t/images/test\\imagen_fusionada_test_14.png\n",
      "[OK] Guardada: yolo_rgb_t/images/test\\imagen_fusionada_test_15.png\n",
      "[OK] Guardada: yolo_rgb_t/images/test\\imagen_fusionada_test_16.png\n",
      "[OK] Guardada: yolo_rgb_t/images/test\\imagen_fusionada_test_17.png\n",
      "[OK] Guardada: yolo_rgb_t/images/test\\imagen_fusionada_test_18.png\n",
      "[OK] Guardada: yolo_rgb_t/images/test\\imagen_fusionada_test_19.png\n",
      "[OK] Guardada: yolo_rgb_t/images/test\\imagen_fusionada_test_20.png\n",
      "[OK] Guardada: yolo_rgb_t/images/test\\imagen_fusionada_test_21.png\n",
      "[OK] Guardada: yolo_rgb_t/images/test\\imagen_fusionada_test_22.png\n",
      "[OK] Guardada: yolo_rgb_t/images/test\\imagen_fusionada_test_23.png\n",
      "[OK] Guardada: yolo_rgb_t/images/test\\imagen_fusionada_test_24.png\n",
      "[OK] Guardada: yolo_rgb_t/images/test\\imagen_fusionada_test_25.png\n"
     ]
    }
   ],
   "source": [
    "import cv2\n",
    "import numpy as np\n",
    "import shutil\n",
    "from pathlib import Path\n",
    "import os \n",
    "# Leer imagen RGB y térmica\n",
    "origen_rgb = os.listdir(Path(\"yolo_rgb/images/test\"))\n",
    "origen_t = os.listdir(Path(\"yolo_t_grayscale/images/test\"))\n",
    "output = \"yolo_rgb_t/images/test\"\n",
    "\n",
    "for i, (rgb_file, t_file) in enumerate(zip(origen_rgb, origen_t)):\n",
    "    rgb = cv2.imread(f'yolo_rgb/images/test/{rgb_file}')\n",
    "    thermal = cv2.imread(f'yolo_t_grayscale/images/test/{t_file}')\n",
    "\n",
    "    if rgb is None or thermal is None:\n",
    "        print(f\"[ERROR] No se pudo cargar {rgb_file} o {t_file}, se omite.\")\n",
    "        continue\n",
    "\n",
    "    # Redimensionar si fuera necesario\n",
    "    if rgb.shape[:2] != thermal.shape[:2]:\n",
    "        thermal = cv2.resize(thermal, (rgb.shape[1], rgb.shape[0]))\n",
    "\n",
    "    thermal_gray = cv2.cvtColor(thermal, cv2.COLOR_BGR2GRAY)\n",
    "    thermal_gray = np.expand_dims(thermal_gray, axis=2)\n",
    "\n",
    "    fused = np.concatenate((rgb, thermal_gray), axis=2)\n",
    "\n",
    "    # Nombre de salida numerado\n",
    "    nombre_salida = f\"imagen_fusionada_test_{i}.png\"\n",
    "    ruta_salida = os.path.join(output, nombre_salida)\n",
    "\n",
    "    cv2.imwrite(ruta_salida, fused)\n",
    "    print(f\"[OK] Guardada: {ruta_salida}\")\n"
   ]
  },
  {
   "cell_type": "code",
   "execution_count": 7,
   "id": "2bcd2424",
   "metadata": {},
   "outputs": [
    {
     "name": "stdout",
     "output_type": "stream",
     "text": [
      "[OK] 022521_DJI_0090.txt → imagen_fusionada_test_0.txt\n",
      "[OK] 060421_DJI_0676.txt → imagen_fusionada_test_1.txt\n",
      "[OK] 060421_DJI_0678.txt → imagen_fusionada_test_2.txt\n",
      "[OK] 060421_DJI_0780.txt → imagen_fusionada_test_3.txt\n",
      "[OK] 071521_DeerPens_xt2_DJI_0072.txt → imagen_fusionada_test_4.txt\n",
      "[OK] 071521_DeerPens_xt2_DJI_0460.txt → imagen_fusionada_test_5.txt\n",
      "[OK] 071521_DeerPens_xt2_DJI_0464.txt → imagen_fusionada_test_6.txt\n",
      "[OK] 071521_DeerPens_xt2_DJI_0486.txt → imagen_fusionada_test_7.txt\n",
      "[OK] CA_DJI_0528.txt → imagen_fusionada_test_8.txt\n",
      "[OK] CE_DJI_0416.txt → imagen_fusionada_test_9.txt\n",
      "[OK] CE_DJI_0446.txt → imagen_fusionada_test_10.txt\n",
      "[OK] CE_DJI_0450.txt → imagen_fusionada_test_11.txt\n",
      "[OK] CE_DJI_0516.txt → imagen_fusionada_test_12.txt\n",
      "[OK] CE_DJI_0560.txt → imagen_fusionada_test_13.txt\n",
      "[OK] CE_DJI_0726.txt → imagen_fusionada_test_14.txt\n",
      "[OK] CE_DJI_0772.txt → imagen_fusionada_test_15.txt\n",
      "[OK] CE_DJI_0828.txt → imagen_fusionada_test_16.txt\n",
      "[OK] CE_DJI_0832.txt → imagen_fusionada_test_17.txt\n",
      "[OK] CE_DJI_0838.txt → imagen_fusionada_test_18.txt\n",
      "[OK] H_DJI_0456.txt → imagen_fusionada_test_19.txt\n",
      "[OK] H_DJI_0476.txt → imagen_fusionada_test_20.txt\n",
      "[OK] H_DJI_0512.txt → imagen_fusionada_test_21.txt\n",
      "[OK] H_DJI_0536.txt → imagen_fusionada_test_22.txt\n",
      "[OK] H_DJI_0542.txt → imagen_fusionada_test_23.txt\n",
      "[OK] H_DJI_0590.txt → imagen_fusionada_test_24.txt\n",
      "[OK] H_DJI_0622.txt → imagen_fusionada_test_25.txt\n"
     ]
    }
   ],
   "source": [
    "ruta_imagenes = Path(\"yolo_rgb/images/test\")\n",
    "ruta_labels_original = Path(\"yolo_rgb/labels/test\")\n",
    "ruta_labels_nueva = Path(\"yolo_rgb_t/labels/test\")\n",
    "\n",
    "# Listar los nombres tal como aparecen en el sistema de archivos\n",
    "origen_imagenes = os.listdir(ruta_imagenes)\n",
    "origen_labels = os.listdir(ruta_labels_original)\n",
    "\n",
    "# Verificación rápida\n",
    "if len(origen_imagenes) != len(origen_labels):\n",
    "    print(f\"[ADVERTENCIA] Hay {len(origen_imagenes)} imágenes y {len(origen_labels)} labels.\")\n",
    "\n",
    "# Renombrar sin alterar el orden\n",
    "for i in range(len(origen_imagenes)):\n",
    "    nombre_nuevo = f\"imagen_fusionada_test_{i}.txt\"\n",
    "\n",
    "    origen_label = ruta_labels_original / origen_labels[i]\n",
    "    destino_label = ruta_labels_nueva / nombre_nuevo\n",
    "\n",
    "    shutil.copy(origen_label, destino_label)\n",
    "    print(f\"[OK] {origen_labels[i]} → {nombre_nuevo}\")"
   ]
  }
 ],
 "metadata": {
  "kernelspec": {
   "display_name": "nlp",
   "language": "python",
   "name": "python3"
  },
  "language_info": {
   "codemirror_mode": {
    "name": "ipython",
    "version": 3
   },
   "file_extension": ".py",
   "mimetype": "text/x-python",
   "name": "python",
   "nbconvert_exporter": "python",
   "pygments_lexer": "ipython3",
   "version": "3.10.18"
  }
 },
 "nbformat": 4,
 "nbformat_minor": 5
}
