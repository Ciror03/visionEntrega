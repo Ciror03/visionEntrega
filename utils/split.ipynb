{
 "cells": [
  {
   "cell_type": "code",
   "execution_count": 26,
   "id": "15b495a2",
   "metadata": {},
   "outputs": [],
   "source": [
    "import shutil\n",
    "from pathlib import Path\n",
    "import numpy as np\n",
    "import os\n"
   ]
  },
  {
   "cell_type": "code",
   "execution_count": 78,
   "id": "f4417469",
   "metadata": {},
   "outputs": [
    {
     "name": "stdout",
     "output_type": "stream",
     "text": [
      "Archivos copiados correctamente.\n",
      "Archivos copiados correctamente.\n"
     ]
    }
   ],
   "source": [
    "# Copiar todos los archivos .txt\n",
    "def copy_files_from_source_to_destination(origen,destino,type,rgb_thermal=1):\n",
    "    for archivo in origen.glob(f\"*.{type}\"):\n",
    "        if rgb_thermal == 1:\n",
    "            if not archivo.stem.endswith(\"_R\"):\n",
    "                shutil.copy(archivo, destino / archivo.name)\n",
    "        elif rgb_thermal == 2:\n",
    "            if archivo.stem.endswith(\"_R\"):\n",
    "                shutil.copy(archivo, destino / archivo.name)\n",
    "        elif rgb_thermal == 0:\n",
    "            shutil.copy(archivo, destino / archivo.name)\n",
    "\n",
    "    print(\"Archivos copiados correctamente.\")\n",
    "\n",
    "origen_jpg = Path(\"split_deer_rgb/images/train\")\n",
    "origen_txt = Path(\"split_deer_rgb/labels/train\")\n",
    "# origen = Path(\"Horse\")\n",
    "\n",
    "destino_jpg = Path(\"split_deer_rgb/images/train_fr/auxiliar\")\n",
    "destino_txt = Path(\"split_deer_rgb/labels/train_fr/auxiliar\")\n",
    "\n",
    "\n",
    "copy_files_from_source_to_destination(origen_jpg,destino_jpg,'jpg',rgb_thermal=1)\n",
    "copy_files_from_source_to_destination(origen_txt,destino_txt,'txt',rgb_thermal=1)"
   ]
  },
  {
   "cell_type": "code",
   "execution_count": 81,
   "id": "70abe802",
   "metadata": {},
   "outputs": [],
   "source": [
    "def train_splitter(origen_img_dir_t,origen_lbl_dir_t,destino_img_t,destino_lbl_t, origen_img_dir_rgb,origen_lbl_dir_rgb,destino_img_rgb,destino_lbl_rgb,split_size=0.8):\n",
    "    origen_jpg = os.listdir(origen_img_dir_t)\n",
    "    origen_txt = os.listdir(origen_lbl_dir_t)\n",
    "    origen_jpg_rgb = os.listdir(origen_img_dir_rgb)\n",
    "    origen_txt_rgb = os.listdir(origen_lbl_dir_rgb)\n",
    "    # Seleccionar 80% para entrenamiento\n",
    "    train = int(len(origen_jpg) * split_size)\n",
    "    picker = np.arange(len(origen_jpg))\n",
    "\n",
    "    for _ in range(train):\n",
    "        muestra = np.random.choice(picker, size=1)\n",
    "        eleccion = muestra[0]\n",
    "        picker = np.setdiff1d(picker, muestra)\n",
    "\n",
    "        archivo_jpg_t = origen_img_dir_t / origen_jpg[eleccion]\n",
    "        archivo_txt_t = origen_lbl_dir_t / origen_txt[eleccion]\n",
    "        archivo_jpg_rgb = origen_img_dir_rgb / origen_jpg_rgb[eleccion]\n",
    "        archivo_txt_rgb = origen_lbl_dir_rgb / origen_txt_rgb[eleccion]\n",
    "\n",
    "        shutil.copy(str(archivo_jpg_t), destino_img_t / archivo_jpg_t.name)\n",
    "        shutil.copy(str(archivo_txt_t), destino_lbl_t / archivo_txt_t.name)\n",
    "        shutil.copy(str(archivo_jpg_t), Path(\"wonder_of_split_t/images/train\") / archivo_jpg_t.name)\n",
    "        shutil.copy(str(archivo_txt_t), Path(\"wonder_of_split_t/labels/train\") / archivo_txt_t.name)\n",
    "\n",
    "        shutil.copy(str(archivo_jpg_rgb), destino_img_rgb / archivo_jpg_rgb.name)\n",
    "        shutil.copy(str(archivo_txt_rgb), destino_lbl_rgb / archivo_txt_rgb.name)\n",
    "        shutil.copy(str(archivo_jpg_rgb), Path(\"wonder_of_split_rgb/images/train\") / archivo_jpg_rgb.name)\n",
    "        shutil.copy(str(archivo_txt_rgb), Path(\"wonder_of_split_rgb/labels/train\") / archivo_txt_rgb.name)\n",
    "\n",
    "    print(\"Archivos movidos correctamente.\")\n",
    "    return picker"
   ]
  },
  {
   "cell_type": "code",
   "execution_count": 82,
   "id": "546298d5",
   "metadata": {},
   "outputs": [
    {
     "name": "stdout",
     "output_type": "stream",
     "text": [
      "Archivos movidos correctamente.\n",
      "[ 5  6 10 16 21 24 33 35]\n"
     ]
    }
   ],
   "source": [
    "origen_img_dir_t = Path(\"split_deer_t/images/train_fr/auxiliar\")\n",
    "origen_lbl_dir_t = Path(\"split_deer_t/labels/train_fr/auxiliar\")\n",
    "destino_img_t = Path(\"split_deer_t/images/train_fr/train\")\n",
    "destino_lbl_t = Path(\"split_deer_t/labels/train_fr/train\")\n",
    "origen_img_dir_rgb = Path(\"split_deer_rgb/images/train_fr/auxiliar\")\n",
    "origen_lbl_dir_rgb = Path(\"split_deer_rgb/labels/train_fr/auxiliar\")\n",
    "destino_img_rgb = Path(\"split_deer_rgb/images/train_fr/train\")\n",
    "destino_lbl_rgb = Path(\"split_deer_rgb/labels/train_fr/train\")\n",
    "\n",
    "picker = train_splitter(origen_img_dir_t,origen_lbl_dir_t,destino_img_t,destino_lbl_t,origen_img_dir_rgb,origen_lbl_dir_rgb,destino_img_rgb,destino_lbl_rgb,split_size=0.80)\n",
    "\n",
    "\n",
    "print(picker)"
   ]
  },
  {
   "cell_type": "code",
   "execution_count": 83,
   "id": "8eb0164c",
   "metadata": {},
   "outputs": [
    {
     "name": "stdout",
     "output_type": "stream",
     "text": [
      "[ 5  6 10 16 21 24 33 35]\n"
     ]
    }
   ],
   "source": [
    "destino_img = Path(\"split_deer_t/images/train_fr/val\")\n",
    "destino_lbl = Path(\"split_deer_t/labels/train_fr/val\")\n",
    "destino_img_rgb = Path(\"split_deer_rgb/images/train_fr/val\")\n",
    "destino_lbl_rgb = Path(\"split_deer_rgb/labels/train_fr/val\")\n",
    "origen_jpg = os.listdir(origen_img_dir_t)\n",
    "origen_txt = os.listdir(origen_lbl_dir_t)\n",
    "origen_jpg_rgb = os.listdir(origen_img_dir_rgb)\n",
    "origen_txt_rgb = os.listdir(origen_lbl_dir_rgb)\n",
    "print(picker)\n",
    "picks_left = picker.copy()\n",
    "for i in picks_left:\n",
    "    archivo_jpg = origen_img_dir_t / origen_jpg[i]\n",
    "    archivo_txt = origen_lbl_dir_t / origen_txt[i]\n",
    "    shutil.copy(str(archivo_jpg), destino_img / archivo_jpg.name)\n",
    "    shutil.copy(str(archivo_txt), destino_lbl / archivo_txt.name)\n",
    "    shutil.copy(str(archivo_jpg), Path(\"wonder_of_split_t/images/val\") / archivo_jpg.name)\n",
    "    shutil.copy(str(archivo_txt), Path(\"wonder_of_split_t/labels/val\") / archivo_txt.name)\n",
    "    archivo_jpg_rgb = origen_img_dir_rgb / origen_jpg_rgb[i]\n",
    "    archivo_txt_rgb = origen_lbl_dir_rgb / origen_txt_rgb[i]\n",
    "\n",
    "    shutil.copy(str(archivo_jpg_rgb), destino_img_rgb / archivo_jpg_rgb.name)\n",
    "    shutil.copy(str(archivo_txt_rgb), destino_lbl_rgb / archivo_txt_rgb.name)\n",
    "    shutil.copy(str(archivo_jpg_rgb), Path(\"wonder_of_split_rgb/images/val\") / archivo_jpg_rgb.name)\n",
    "    shutil.copy(str(archivo_txt_rgb), Path(\"wonder_of_split_rgb/labels/val\") / archivo_txt_rgb.name)"
   ]
  }
 ],
 "metadata": {
  "kernelspec": {
   "display_name": "nlp",
   "language": "python",
   "name": "python3"
  },
  "language_info": {
   "codemirror_mode": {
    "name": "ipython",
    "version": 3
   },
   "file_extension": ".py",
   "mimetype": "text/x-python",
   "name": "python",
   "nbconvert_exporter": "python",
   "pygments_lexer": "ipython3",
   "version": "3.10.18"
  }
 },
 "nbformat": 4,
 "nbformat_minor": 5
}
