{
 "cells": [
  {
   "cell_type": "code",
   "execution_count": 5,
   "id": "029c0579",
   "metadata": {},
   "outputs": [
    {
     "name": "stdout",
     "output_type": "stream",
     "text": [
      "              Model        P        R    mAP50  mAP50-95\n",
      "0          yolo_hst  0.94013  0.96352  0.97022   0.58465\n",
      "5  yolo_t_grayscale  0.92394  0.91475  0.94774   0.57145\n",
      "4            yolo_t  0.98113  0.96418  0.96899   0.54355\n",
      "2          yolo_rgb  0.91324  0.83319  0.88991   0.50478\n",
      "1          yolo_hsv  0.89403  0.84010  0.85865   0.48593\n",
      "3        yolo_rgb_t  0.88838  0.85148  0.88091   0.48546\n"
     ]
    },
    {
     "name": "stderr",
     "output_type": "stream",
     "text": [
      "C:\\Users\\Ciro\\AppData\\Local\\Temp\\ipykernel_38420\\1347824597.py:38: FutureWarning: In future versions `DataFrame.to_latex` is expected to utilise the base implementation of `Styler.to_latex` for formatting and rendering. The arguments signature may therefore change. It is recommended instead to use `DataFrame.style.to_latex` which also contains additional functionality.\n",
      "  df_results.to_latex(\"yolo_final_results/comparative_model_table.tex\", index=False)\n"
     ]
    }
   ],
   "source": [
    "import os\n",
    "import pandas as pd\n",
    "\n",
    "# Carpeta base donde están todos los resultados\n",
    "dirs = [\"yolo_hst\",\"yolo_hsv\",\"yolo_rgb\",\"yolo_rgb_t\",\"yolo_t\",\"yolo_t_grayscale\"]\n",
    "base_path = \"runs/detect/train\"\n",
    "\n",
    "# Lista para almacenar los resultados por modelo\n",
    "results = []\n",
    "\n",
    "# Iterar por cada modelo (carpeta en runs/detect)\n",
    "for model_name in dirs:\n",
    "    model_path = os.path.join(model_name,base_path)\n",
    "    results_csv = os.path.join(model_path, \"results.csv\")\n",
    "\n",
    "    # Cargar el CSV y tomar la última fila (última epoch)\n",
    "    df = pd.read_csv(results_csv)\n",
    "    last = df.iloc[-1]\n",
    "\n",
    "    # Guardar métricas que te interesen\n",
    "    results.append({\n",
    "        \"Model\": model_name,\n",
    "        \"P\": last[\"metrics/precision(B)\"],\n",
    "        \"R\": last[\"metrics/recall(B)\"],\n",
    "        \"mAP50\": last[\"metrics/mAP50(B)\"],\n",
    "        \"mAP50-95\": last[\"metrics/mAP50-95(B)\"]\n",
    "    })\n",
    "\n",
    "# Crear DataFrame\n",
    "df_results = pd.DataFrame(results)\n",
    "df_results = df_results.sort_values(by=\"mAP50-95\", ascending=False)\n",
    "\n",
    "# Mostrar tabla\n",
    "print(df_results)\n",
    "\n",
    "# Exportar si querés\n",
    "df_results.to_csv(\"yolo_final_results/comparative_model_table.csv\", index=False)\n",
    "df_results.to_latex(\"yolo_final_results/comparative_model_table.tex\", index=False)"
   ]
  }
 ],
 "metadata": {
  "kernelspec": {
   "display_name": "nlp",
   "language": "python",
   "name": "python3"
  },
  "language_info": {
   "codemirror_mode": {
    "name": "ipython",
    "version": 3
   },
   "file_extension": ".py",
   "mimetype": "text/x-python",
   "name": "python",
   "nbconvert_exporter": "python",
   "pygments_lexer": "ipython3",
   "version": "3.10.18"
  }
 },
 "nbformat": 4,
 "nbformat_minor": 5
}
